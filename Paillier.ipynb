{
 "cells": [
  {
   "cell_type": "markdown",
   "id": "983e255f",
   "metadata": {},
   "source": [
    "# Paillier Encription:"
   ]
  },
  {
   "cell_type": "markdown",
   "id": "f5399d52",
   "metadata": {},
   "source": [
    "## Key Generation"
   ]
  },
  {
   "cell_type": "code",
   "execution_count": 25,
   "id": "313896ef",
   "metadata": {
    "ExecuteTime": {
     "end_time": "2024-06-09T14:35:24.009486Z",
     "start_time": "2024-06-09T14:35:24.007135Z"
    }
   },
   "outputs": [],
   "source": [
    "import random\n",
    "from sympy import mod_inverse, lcm"
   ]
  },
  {
   "cell_type": "code",
   "execution_count": 26,
   "id": "4bdedac5",
   "metadata": {
    "ExecuteTime": {
     "end_time": "2024-06-09T14:35:24.162286Z",
     "start_time": "2024-06-09T14:35:24.159978Z"
    }
   },
   "outputs": [],
   "source": [
    "def gcd(a, b):\n",
    "    while b != 0:\n",
    "        a, b = b, a % b\n",
    "    return a"
   ]
  },
  {
   "cell_type": "code",
   "execution_count": 27,
   "id": "7e06af16",
   "metadata": {
    "ExecuteTime": {
     "end_time": "2024-06-09T14:35:24.310988Z",
     "start_time": "2024-06-09T14:35:24.305169Z"
    }
   },
   "outputs": [],
   "source": [
    "def L(u, n):\n",
    "    return (u - 1) // n"
   ]
  },
  {
   "cell_type": "code",
   "execution_count": 28,
   "id": "9e956a42",
   "metadata": {
    "ExecuteTime": {
     "end_time": "2024-06-09T14:35:24.450824Z",
     "start_time": "2024-06-09T14:35:24.443386Z"
    }
   },
   "outputs": [],
   "source": [
    "def is_prime(n):\n",
    "    if n <= 1:\n",
    "        return False\n",
    "    for i in range(2, int(n**0.5) + 1):\n",
    "        if n % i == 0:\n",
    "            return False\n",
    "    return True"
   ]
  },
  {
   "cell_type": "code",
   "execution_count": 29,
   "id": "86619e41",
   "metadata": {
    "ExecuteTime": {
     "end_time": "2024-06-09T14:35:24.600953Z",
     "start_time": "2024-06-09T14:35:24.594557Z"
    }
   },
   "outputs": [],
   "source": [
    "def random_prime(bits):\n",
    "    while True:\n",
    "        p = random.getrandbits(bits)        \n",
    "        if is_prime(p):\n",
    "            return p"
   ]
  },
  {
   "cell_type": "code",
   "execution_count": 30,
   "id": "60db7e2c",
   "metadata": {
    "ExecuteTime": {
     "end_time": "2024-06-09T14:35:24.769370Z",
     "start_time": "2024-06-09T14:35:24.762221Z"
    }
   },
   "outputs": [],
   "source": [
    "def is_valid_g(g, n, n2, lam):\n",
    "    # Check gcd(L(g^lam mod n^2), n) == 1\n",
    "    if g < 1 or g >= n2:\n",
    "        return False\n",
    "    l = L(pow(g, lam, n2), n)\n",
    "    return gcd(l, n) == 1\n"
   ]
  },
  {
   "cell_type": "code",
   "execution_count": 31,
   "id": "11ba11e0",
   "metadata": {
    "ExecuteTime": {
     "end_time": "2024-06-09T14:35:24.950539Z",
     "start_time": "2024-06-09T14:35:24.938079Z"
    }
   },
   "outputs": [],
   "source": [
    "def generate_keypair(bits):\n",
    "    # Generate two large primes p and q\n",
    "    p = random_prime(bits // 2)\n",
    "    print(f\"p: {p}\")\n",
    "    q = random_prime(bits // 2)\n",
    "    print(f\"q: {q}\")\n",
    "    \n",
    "    n = p * q\n",
    "    print(f\"n: {n}\")\n",
    "    n2 = n * n\n",
    "    lam = int(lcm(p - 1, q - 1))\n",
    "    print(f\"lamda: {lam}\")    \n",
    "\n",
    "    # Choose g in Z*_{n^2}\n",
    "    g = random.randint(1, n2 - 1)    \n",
    "    while not is_valid_g(g, n, n2, lam):\n",
    "        g = random.randint(1, n2 - 1)\n",
    "        \n",
    "    print(f\"g: {g}\")\n",
    "\n",
    "    # Compute mu\n",
    "    mu = mod_inverse(L(pow(g, lam, n2), n), n)\n",
    "    print(f\"mu: {mu}\")\n",
    "\n",
    "    # Public key (n, g)\n",
    "    public_key = (n, g)    \n",
    "    \n",
    "    # Private key (lam, mu)\n",
    "    private_key = (lam, mu)\n",
    "\n",
    "    return public_key, private_key\n"
   ]
  },
  {
   "cell_type": "markdown",
   "id": "a087d9b8",
   "metadata": {},
   "source": [
    "## Encryption"
   ]
  },
  {
   "cell_type": "code",
   "execution_count": 32,
   "id": "6b8d935d",
   "metadata": {
    "ExecuteTime": {
     "end_time": "2024-06-09T14:35:25.284701Z",
     "start_time": "2024-06-09T14:35:25.275984Z"
    }
   },
   "outputs": [],
   "source": [
    "def encrypt(public_key, plaintext):\n",
    "    n, g = public_key\n",
    "    n2 = n * n\n",
    "    r = random.randint(1, n - 1)\n",
    "    while gcd(r, n) != 1:\n",
    "        r = random.randint(1, n - 1)\n",
    "    c = (pow(g, plaintext, n2) * pow(r, n, n2)) % n2\n",
    "    return c\n"
   ]
  },
  {
   "cell_type": "markdown",
   "id": "1ba5d703",
   "metadata": {},
   "source": [
    "## Decryption"
   ]
  },
  {
   "cell_type": "code",
   "execution_count": 33,
   "id": "c4bbec54",
   "metadata": {
    "ExecuteTime": {
     "end_time": "2024-06-09T14:35:25.962722Z",
     "start_time": "2024-06-09T14:35:25.960140Z"
    }
   },
   "outputs": [],
   "source": [
    "def decrypt(private_key, public_key, ciphertext):\n",
    "    lam, mu = private_key\n",
    "    n, g = public_key\n",
    "    n2 = n * n\n",
    "    u = pow(ciphertext, lam, n2)\n",
    "    l = L(u, n)\n",
    "    plaintext = (l * mu) % n\n",
    "    return plaintext"
   ]
  },
  {
   "cell_type": "markdown",
   "id": "ea02a575",
   "metadata": {},
   "source": [
    "## operation"
   ]
  },
  {
   "cell_type": "code",
   "execution_count": 83,
   "id": "5ea0b051",
   "metadata": {
    "ExecuteTime": {
     "end_time": "2024-06-09T14:40:58.413888Z",
     "start_time": "2024-06-09T14:40:58.411627Z"
    }
   },
   "outputs": [],
   "source": [
    "def homomorphic_addition(ciphertext1, ciphertext2, n2):\n",
    "    return (ciphertext1 * ciphertext2) % n2"
   ]
  },
  {
   "cell_type": "code",
   "execution_count": 89,
   "id": "cd2f8322",
   "metadata": {
    "ExecuteTime": {
     "end_time": "2024-06-09T14:42:54.952040Z",
     "start_time": "2024-06-09T14:42:54.949491Z"
    }
   },
   "outputs": [],
   "source": [
    "def homomorphic_scalar_multiplication(ciphertext, scalar, n2):\n",
    "    return pow(ciphertext, scalar, n2)"
   ]
  },
  {
   "cell_type": "code",
   "execution_count": 90,
   "id": "fdbe477f",
   "metadata": {
    "ExecuteTime": {
     "end_time": "2024-06-09T14:45:00.863023Z",
     "start_time": "2024-06-09T14:45:00.860069Z"
    }
   },
   "outputs": [],
   "source": [
    "def homomorphic_negation(ciphertext, n2):     \n",
    "    return mod_inverse(ciphertext, n2)\n",
    "\n",
    "def homomorphic_subtraction(ciphertext1, ciphertext2, n):    \n",
    "    neg_ciphertext2 = homomorphic_negation(ciphertext2, n)\n",
    "    return homomorphic_addition(ciphertext1, neg_ciphertext2, n**2)"
   ]
  },
  {
   "cell_type": "markdown",
   "id": "75c0b6eb",
   "metadata": {},
   "source": [
    "# Test"
   ]
  },
  {
   "cell_type": "code",
   "execution_count": 93,
   "id": "d7b7c25e",
   "metadata": {
    "ExecuteTime": {
     "end_time": "2024-06-09T14:46:39.574698Z",
     "start_time": "2024-06-09T14:46:39.566336Z"
    },
    "scrolled": true
   },
   "outputs": [
    {
     "name": "stdout",
     "output_type": "stream",
     "text": [
      "p: 193\n",
      "q: 83\n",
      "n: 16019\n",
      "lamda: 7872\n",
      "g: 91860186\n",
      "mu: 13344\n",
      "Public Key: (16019, 91860186)\n",
      "Private Key: (7872, 13344)\n",
      "Plaintext 1: 123\n",
      "Plaintext 2: 456\n",
      "Encrypted Plaintext 1: 183689278\n",
      "Encrypted Plaintext 2: 159681387\n",
      "Encrypted Sum: 29331758688068586\n",
      "Decrypted Sum: 579\n"
     ]
    },
    {
     "data": {
      "text/plain": [
       "333"
      ]
     },
     "execution_count": 93,
     "metadata": {},
     "output_type": "execute_result"
    }
   ],
   "source": [
    "# Example Usage\n",
    "bits = 16\n",
    "public_key, private_key = generate_keypair(bits)\n",
    "n = public_key[0] ** 2\n",
    "n2 = n ** 2\n",
    "print(\"Public Key:\", public_key)\n",
    "print(\"Private Key:\", private_key)\n",
    "\n",
    "\n",
    "plaintext1 = 123\n",
    "plaintext2 = 456\n",
    "\n",
    "# Encrypt both plaintexts\n",
    "ciphertext1 = encrypt(public_key, plaintext1)\n",
    "ciphertext2 = encrypt(public_key, plaintext2)\n",
    "\n",
    "# Perform homomorphic addition on the ciphertexts\n",
    "ciphertext_sum = homomorphic_addition(ciphertext1, ciphertext2, n2)\n",
    "\n",
    "# Decrypt the result\n",
    "decrypted_sum = decrypt(private_key, public_key, ciphertext_sum)\n",
    "\n",
    "print(\"Plaintext 1:\", plaintext1)\n",
    "print(\"Plaintext 2:\", plaintext2)\n",
    "print(\"Encrypted Plaintext 1:\", ciphertext1)\n",
    "print(\"Encrypted Plaintext 2:\", ciphertext2)\n",
    "print(\"Encrypted Sum:\", ciphertext_sum)\n",
    "print(\"Decrypted Sum:\", decrypted_sum)\n",
    "\n",
    "decrypt(private_key, public_key, homomorphic_subtraction(ciphertext2, ciphertext1, n))"
   ]
  },
  {
   "cell_type": "code",
   "execution_count": null,
   "id": "46d3f0c0",
   "metadata": {},
   "outputs": [],
   "source": []
  }
 ],
 "metadata": {
  "hide_input": false,
  "kernelspec": {
   "display_name": "Python 3 (ipykernel)",
   "language": "python",
   "name": "python3"
  },
  "language_info": {
   "codemirror_mode": {
    "name": "ipython",
    "version": 3
   },
   "file_extension": ".py",
   "mimetype": "text/x-python",
   "name": "python",
   "nbconvert_exporter": "python",
   "pygments_lexer": "ipython3",
   "version": "3.11.4"
  },
  "toc": {
   "base_numbering": 1,
   "nav_menu": {},
   "number_sections": true,
   "sideBar": true,
   "skip_h1_title": false,
   "title_cell": "Table of Contents",
   "title_sidebar": "Contents",
   "toc_cell": false,
   "toc_position": {},
   "toc_section_display": true,
   "toc_window_display": false
  }
 },
 "nbformat": 4,
 "nbformat_minor": 5
}
